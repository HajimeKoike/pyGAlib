{
 "cells": [
  {
   "cell_type": "markdown",
   "metadata": {
    "deletable": true,
    "editable": true
   },
   "source": [
    "# Tutorial for the GAlib package\n",
    "\n",
    "** Version 0.0**  (Updated: 07.07.2019)\n",
    "\n",
    "This tutorial will guide you through the first steps towards using *GAlib*, a package to generate and analyse complex networks. First of all, we need is to load the libraries we will need to work. *GAlib* treats networks as adjacency matrices, represented as *NumPy* arrays."
   ]
  },
  {
   "cell_type": "code",
   "execution_count": 1,
   "metadata": {
    "collapsed": true,
    "deletable": true,
    "editable": true
   },
   "outputs": [],
   "source": [
    "# Imports from the Python standard library\n",
    "from timeit import default_timer as timer\n",
    "# Import 3rd party libraries\n",
    "import numpy as np\n",
    "import matplotlib.pyplot as plt\n",
    "%matplotlib inline"
   ]
  },
  {
   "cell_type": "markdown",
   "metadata": {
    "deletable": true,
    "editable": true,
    "slideshow": {
     "slide_type": "-"
    }
   },
   "source": [
    "GAlib is in the Python Package Index (PyPI), therefore installation only requires to run the following command in a terminal \n",
    "\n",
    "    $ pip install galib\n",
    "\n",
    "The following cell will check whether GAlib is already installed in the current working environment, otherwise, it will call `pip` for the installation (a working internet connection is required)."
   ]
  },
  {
   "cell_type": "code",
   "execution_count": 2,
   "metadata": {
    "collapsed": true,
    "deletable": true,
    "editable": true,
    "scrolled": true
   },
   "outputs": [],
   "source": [
    "## Check if GAlib is installed in the current environment, otherwise install\n",
    "try:\n",
    "    import galib\n",
    "except:\n",
    "    print('Installing GAlib...')\n",
    "    ! pip install galib\n",
    "    import galib"
   ]
  },
  {
   "cell_type": "markdown",
   "metadata": {
    "deletable": true,
    "editable": true
   },
   "source": [
    "<br/>\n",
    "## 1. Structure of the library and getting information \n",
    "\n",
    "GAlib is organised into three main modules:\n",
    "\n",
    "- *metrics.py*: Common graph metrics (degrees, clustering, graph distance, etc)\n",
    "- *models.py*: Generation of synthetic networks and randomization.\n",
    "- *tools.py*: Miscelaneous helper functions.\n",
    "\n",
    "There are two modules to allocate copies of selected functions which run faster using *Numba*, an open source JIT compiler, tospeed up selected functions:\n",
    "\n",
    "- *metrics_numba.py*: Uses the Numba package to accelerate calculation of some metrics.\n",
    "- *models_numba.py*: Uses the Numba package to accelerate generation of some graph models.\n",
    "\n",
    "The *extra* module contains functions related to network analysis but probably of interest for particular users only.\n",
    "\n",
    "- *extra.py*: Additional measures and functionalities related to network analysis.\n",
    "\n",
    "More detailed information is obtained calling the interactive help. To access the complete list of functions in each module, type:"
   ]
  },
  {
   "cell_type": "code",
   "execution_count": 7,
   "metadata": {
    "collapsed": false,
    "deletable": true,
    "editable": true,
    "scrolled": true
   },
   "outputs": [],
   "source": [
    "# Import the main three modules (just needed once)\n",
    "import galib.metrics\n",
    "import galib.models\n",
    "import galib.tools"
   ]
  },
  {
   "cell_type": "code",
   "execution_count": 10,
   "metadata": {
    "collapsed": true
   },
   "outputs": [],
   "source": [
    "galib.metrics?\n",
    "#galib.models?\n",
    "#galib.tools?"
   ]
  },
  {
   "cell_type": "markdown",
   "metadata": {},
   "source": [
    "Detailed information for each function is found in the same manner:"
   ]
  },
  {
   "cell_type": "code",
   "execution_count": 13,
   "metadata": {
    "collapsed": true
   },
   "outputs": [],
   "source": [
    "# Uncomment different lines in this cell to see the help of the various functions\n",
    "galib.Degree?\n",
    "#galib.RichClub?\n",
    "#galib.models.RandomGraph?\n",
    "#galib.tools.LoadFromPajek?\n",
    "#galib.tools.HammingDistance?"
   ]
  },
  {
   "cell_type": "markdown",
   "metadata": {},
   "source": [
    "> **NOTE**: Importing galib imports also all functions in module *metrics.py* into the namespace. Therefore, in the previous cell we are calling `galib.Degree?` instead of `galib.metrics.Degree?` The rest of modules are imported separately."
   ]
  },
  {
   "cell_type": "markdown",
   "metadata": {
    "deletable": true,
    "editable": true
   },
   "source": [
    "<br>\n",
    "## 2. Characterization of networks (*galib.metrics*)\n",
    "\n",
    "For illustration, in this tutorial we will load a real network comprising the anatomical long-range brain connectivity in the brain of cats. The data consist of a parcellation (division) of one brain hemisphere into **53 cortical regions** (grey matter), and the anatomical long-range fibers experimentally identified between them. The original network is weighted and directed, we will symmetrise and binarise the network."
   ]
  },
  {
   "cell_type": "code",
   "execution_count": 16,
   "metadata": {
    "collapsed": false,
    "deletable": true,
    "editable": true
   },
   "outputs": [
    {
     "data": {
      "text/plain": [
       "<matplotlib.colorbar.Colorbar at 0x12ac8fa58>"
      ]
     },
     "execution_count": 16,
     "metadata": {},
     "output_type": "execute_result"
    },
    {
     "data": {
      "image/png": "[encoded data removed]",
      "text/plain": [
       "<matplotlib.figure.Figure at 0x12aa7b9b0>"
      ]
     },
     "metadata": {},
     "output_type": "display_data"
    }
   ],
   "source": [
    "# Import the original network\n",
    "dataroot = '../Examples/Data/'\n",
    "net = loadtxt(dataroot + 'Cat53_cortex.txt', dtype=float)\n",
    "\n",
    "# Binarise the directed network\n",
    "dnet = np.where(net, 1, 0).astype(np.int)\n",
    "\n",
    "# Symmetrise and binarise\n",
    "unet = galib.tools.SymmetriseMatrix(net)\n",
    "unet = np.where(unet, 1,0).astype(np.int)\n",
    "\n",
    "# Finally, plot the adjacency matrix\n",
    "figure()\n",
    "plt.imshow(unet, cmap='gray_r')\n",
    "plt.colorbar()"
   ]
  },
  {
   "cell_type": "markdown",
   "metadata": {},
   "source": [
    "Since GAlib is based on NumPy, some basic functionalities only require NumPy operations, e.g., finding the number of nodes (N) and edges (L). "
   ]
  },
  {
   "cell_type": "code",
   "execution_count": 18,
   "metadata": {
    "collapsed": false,
    "deletable": true,
    "editable": true
   },
   "outputs": [
    {
     "name": "stdout",
     "output_type": "stream",
     "text": [
      "Number of nodes, N: 53\t\tNumber of links, L: 523\t\tdensity: 0.380\n"
     ]
    }
   ],
   "source": [
    "# Fundamental properties of the network\n",
    "N = len(unet)\n",
    "L = 0.5 * unet.sum()\n",
    "dens = galib.Density(unet)\n",
    "\n",
    "print('Number of nodes, N: %d\\t\\tNumber of links, L: %d\\t\\tdensity: %1.3f' %(N, L, dens))"
   ]
  },
  {
   "cell_type": "markdown",
   "metadata": {
    "deletable": true,
    "editable": true
   },
   "source": [
    "Function `galib.Degree()` returns the degree of every node, but calculation of the degree distribution only requires, again, use of standard functions in either NumPy or Matplotlib."
   ]
  },
  {
   "cell_type": "code",
   "execution_count": 21,
   "metadata": {
    "collapsed": false,
    "deletable": true,
    "editable": true,
    "scrolled": true
   },
   "outputs": [
    {
     "name": "stdout",
     "output_type": "stream",
     "text": [
      "Degrees: [ 9 12 20 22 17 23 17 11  9 18 15 27 22 28 32 19 11 12  7 11  8 28 11 14\n",
      " 17 15 17 18 19 21 22 28 29 22 30 23 24 21 20 12 19 25 32 34 28 34 12 39\n",
      " 37 11 14 16  4]\n",
      "Min = 4, Max = 39, Mean degree: 19.736\n"
     ]
    },
    {
     "data": {
      "text/plain": [
       "<matplotlib.text.Text at 0x12b0049b0>"
      ]
     },
     "execution_count": 21,
     "metadata": {},
     "output_type": "execute_result"
    },
    {
     "data": {
      "image/png": "[encoded data removed]",
      "text/plain": [
       "<matplotlib.figure.Figure at 0x12b2062e8>"
      ]
     },
     "metadata": {},
     "output_type": "display_data"
    }
   ],
   "source": [
    "from galib import Degree\n",
    "\n",
    "# Calculate the degree of every node\n",
    "deg = Degree(unet, directed=False)\n",
    "print( 'Degrees:', deg)\n",
    "print('Min = %d, Max = %d, Mean degree: %1.3f' %(deg.min(), deg.max(), deg.mean()))\n",
    "\n",
    "# Plot the degree distribution\n",
    "plt.figure()\n",
    "plt.hist(deg, bins=8, range=(0,40), rwidth=0.8) #, density=True)\n",
    "plt.xlabel('Node degree', fontsize=14)"
   ]
  },
  {
   "cell_type": "markdown",
   "metadata": {},
   "source": [
    "<br/>\n",
    "<br/>\n",
    "CONTINUE HERE !!!"
   ]
  },
  {
   "cell_type": "code",
   "execution_count": 12,
   "metadata": {
    "collapsed": false,
    "deletable": true,
    "editable": true
   },
   "outputs": [
    {
     "name": "stdout",
     "output_type": "stream",
     "text": [
      "Clustering coefficient: 0.585\n",
      "Local clustering: Min = 0.399, Max = 1.000, Average = 0.668\n"
     ]
    }
   ],
   "source": [
    "from galib import Clustering\n",
    "\n",
    "# Calculate the clustering of the network and the local clustering of every node\n",
    "C, Cnodes = Clustering(netsym, checkdirected=False)\n",
    "\n",
    "print( 'Clustering coefficient: %1.3f' %C )\n",
    "print( 'Local clustering: Min = %1.3f, Max = %1.3f, Average = %1.3f' %(Cnodes.min(), Cnodes.max(), Cnodes.mean()) )"
   ]
  },
  {
   "cell_type": "markdown",
   "metadata": {
    "deletable": true,
    "editable": true
   },
   "source": [
    "<br/>\n",
    "### (Exercise 2) – Rich-club identification\n",
    "We say a network has a rich when (i) there are hubs in a network and (ii) those hubs are densely interconnected. Rich-club identification is a two steps process:\n",
    "1. Compute the $k$-density measure, $\\Phi(k)$, and see whether it grows, stabilises or decays.\n",
    "2. If $k$-density grows sufficiently, identify the set of hubs forming the rich-club.\n",
    "\n",
    "**WARNING!** Unfortunately the identification of a rich-club implies some arbitrary choices. No strict criteria exist but, as a rule of thumb, if $\\Phi(k)$ grows above 0.8, then you are pretty safe. Contrary to what is commonly found in the literature, the identification of a rich-club **does not** require the comparison to results from a null-model (random or rewired networks). Such comparisons are important, however, to inquiry about the *causes* leading to the presence (or the absence) of a rich-club."
   ]
  },
  {
   "cell_type": "code",
   "execution_count": 13,
   "metadata": {
    "collapsed": false,
    "deletable": true,
    "editable": true
   },
   "outputs": [
    {
     "data": {
      "image/png": "[encoded data removed]",
      "text/plain": [
       "<matplotlib.figure.Figure at 0x121f8b6d8>"
      ]
     },
     "metadata": {},
     "output_type": "display_data"
    }
   ],
   "source": [
    "from galib import RichClub\n",
    "\n",
    "# Compute the k-density and plot it\n",
    "kdens = RichClub(netsym)\n",
    "plt.figure()\n",
    "plt.plot(kdens, '.-')\n",
    "plt.xlabel('Node degree', fontsize=12)\n",
    "plt.ylabel('k-density', fontsize=12)\n",
    "plt.grid(axis='y')"
   ]
  },
  {
   "cell_type": "code",
   "execution_count": 15,
   "metadata": {
    "collapsed": false,
    "deletable": true,
    "editable": true
   },
   "outputs": [
    {
     "name": "stdout",
     "output_type": "stream",
     "text": [
      "Nodes in the richclub for k-density threshold 1.00:\n",
      "[14 42 43 45 47 48]\n"
     ]
    }
   ],
   "source": [
    "# Identify the degree at which k-density overcomes the (arbitrary) threshold\n",
    "densthres = 1.0\n",
    "kthres = where(kdens >= densthres)[0][0]\n",
    "# Identify the hubs forming the rich-club\n",
    "richclub = where(deg >= kthres)[0]\n",
    "print('Nodes in the richclub for k-density threshold %1.2f:' %densthres)\n",
    "print(richclub)"
   ]
  },
  {
   "cell_type": "code",
   "execution_count": 16,
   "metadata": {
    "collapsed": false,
    "deletable": true,
    "editable": true
   },
   "outputs": [
    {
     "name": "stdout",
     "output_type": "stream",
     "text": [
      "14\tAES\tVisual\n",
      "42\tIa\tFrontolimbic\n",
      "43\tIg\tFrontolimbic\n",
      "45\tCGp\tFrontolimbic\n",
      "47\t35\tFrontolimbic\n",
      "48\t36\tFrontolimbic\n"
     ]
    }
   ],
   "source": [
    "# Let's now see who those rich-club regions are\n",
    "from galib.tools import LoadLabels\n",
    "labels = LoadLabels(dataroot + 'Areas53_list.txt')\n",
    "for node in richclub:\n",
    "    print(labels[node])"
   ]
  },
  {
   "cell_type": "markdown",
   "metadata": {
    "deletable": true,
    "editable": true
   },
   "source": [
    "<br/>\n",
    "### (Exercise 3) – Global network properties \n",
    "\n",
    "1. Compute the diameter of the network and its average pathlength\n",
    "2. Calculate the betwenness centrality of the nodes\n",
    "\n",
    "The [Dijkstra algorithm](https://en.wikipedia.org/wiki/Dijkstra%27s_algorithm) is a famous method to find the graph distance between two nodes in a graph. However, if we want to know the distance between all pairs, the [Floyd-Warshall algorithm](https://en.wikipedia.org/wiki/Floyd–Warshall_algorithm) is faster than running Dijkstra N^2 times. "
   ]
  },
  {
   "cell_type": "code",
   "execution_count": 17,
   "metadata": {
    "collapsed": false,
    "deletable": true,
    "editable": true
   },
   "outputs": [
    {
     "name": "stdout",
     "output_type": "stream",
     "text": [
      "Diameter: 3\tAv. Pathlen: 1.653\n"
     ]
    }
   ],
   "source": [
    "from galib import FloydWarshall\n",
    "# Calculate the pair-wise graph distance matrix\n",
    "Dij = FloydWarshall(netsym)\n",
    "\n",
    "diam = Dij.max()\n",
    "avpathlen = (Dij.sum() - Dij.trace()) / (N*(N-1))\n",
    "\n",
    "print('Diameter: %d\\tAv. Pathlen: %1.3f' %(diam, avpathlen))"
   ]
  },
  {
   "cell_type": "code",
   "execution_count": 18,
   "metadata": {
    "collapsed": false,
    "deletable": true,
    "editable": true
   },
   "outputs": [
    {
     "name": "stdout",
     "output_type": "stream",
     "text": [
      "\n",
      "Betweenness centrality. Min: 0\tMax: 781\n"
     ]
    }
   ],
   "source": [
    "# Calculate the pairwise distance matrix, the between centrality of every node,\n",
    "# all shortest paths from node i to j, and all shortest path starting \n",
    "# from i and returning to i\n",
    "from galib import PathsAllinOne\n",
    "Dij, bcnodes, paths, cycles = PathsAllinOne(netsym)\n",
    "print( '\\nBetweenness centrality. Min: %d\\tMax: %d' %(bcnodes.min(), bcnodes.max()) )"
   ]
  },
  {
   "cell_type": "code",
   "execution_count": 19,
   "metadata": {
    "collapsed": false,
    "deletable": true,
    "editable": true
   },
   "outputs": [
    {
     "name": "stdout",
     "output_type": "stream",
     "text": [
      "Total number of shortest paths: 13938\n",
      "Betweenness centrality. Min: 0.000\tMax: 0.056\n"
     ]
    }
   ],
   "source": [
    "# Normalise BC of the nodes by the number of existing shortest paths\n",
    "# diameter was diam=3\n",
    "npaths = len(paths[1]) + len(paths[2]) + len(paths[3])\n",
    "bcnormed = bcnodes / npaths \n",
    "\n",
    "print( 'Total number of shortest paths: %d' %npaths )\n",
    "print( 'Betweenness centrality. Min: %1.3f\\tMax: %1.3f' %(bcnormed.min(), bcnormed.max()) )"
   ]
  },
  {
   "cell_type": "code",
   "execution_count": 20,
   "metadata": {
    "collapsed": false,
    "deletable": true,
    "editable": true
   },
   "outputs": [
    {
     "data": {
      "image/png": "[encoded data removed]",
      "text/plain": [
       "<matplotlib.figure.Figure at 0x122369ba8>"
      ]
     },
     "metadata": {},
     "output_type": "display_data"
    }
   ],
   "source": [
    "# Plot the relation between the degree and betweenness of each node\n",
    "plt.figure()\n",
    "plt.scatter(deg, bcnormed)\n",
    "plt.xlabel('Node degree', fontsize=14)\n",
    "plt.ylabel('Betweenness centrality', fontsize=14)\n",
    "plt.xlim(0,45)\n",
    "plt.grid(lw=0.5)"
   ]
  },
  {
   "cell_type": "markdown",
   "metadata": {},
   "source": [
    "<br/>\n",
    "### 2.X Directed networks\n",
    "\n",
    "Most graph measures exist for directed networks, which provides richer information. Check for example the `Reciprocity()` and `ReciprocalDegree()` functions. GAlib functions usually come with an optional parameter `directed` in order to specify whether the undirected or the directed version of the metric is desired. By default, the parameter is set to `directed=False`.\n",
    "\n",
    "For the rest of the tutorial we will consider that the long-range connectome is **symmetric**, which is a fairly good approximation, and we will ignore the weights of the links.\n",
    "\n",
    "Show here Reciprocity, Degree, RichClub, Reciprocal degree ..."
   ]
  },
  {
   "cell_type": "markdown",
   "metadata": {
    "deletable": true,
    "editable": true
   },
   "source": [
    "<br>\n",
    "## 3. Network models and randomization (*galib.models*)\n",
    "\n",
    "\n",
    "\n",
    "<br/>\n",
    "### (Exercise 4) – Graph models. Null-models and benchmarks\n",
    "\n",
    "We will now compare the properties of the cat connectome to the properties of typical reference networks: *random graphs* and *degree-preserving random graphs*. These comparisons serve us to explore where the properties observed in real connectome may come from.\n",
    "\n",
    "**Random graphs** are the 1st-order reference network model. It is a well-known fact that the numerical outcome of all graph metrics strongly depends on how sparse, or how dense the network is (i.e., on the size N and number of links L.) This makes network comparison a difficult challenge. Random graphs are the network models with the least number of constraints (N and L) and only one assumption: that every link has been seeded independently, at random.\n",
    "\n",
    "Beyond N and L, we often want to know how much do the observed metrics depend on a third constraint: the degree-distribution. Specially because the presence of hubs may strongly influence other properties. To explore that, we can generate reference graphs with the same N, L and degree-sequence as the original network, which are maximally random under those constraints. Because of the additional constraint, these are 2nd-order reference graphs. We can construct such networks by randomly rewiring the links of the original network, carefully conserving the given constraints.\n",
    "\n",
    "In GAlib library, the functions to generate different network models are located in the *models.py* module."
   ]
  },
  {
   "cell_type": "code",
   "execution_count": 21,
   "metadata": {
    "collapsed": true,
    "deletable": true,
    "editable": true
   },
   "outputs": [],
   "source": [
    "# Generate ensemble of random graphs with same N and L as the cat connectome\n",
    "from galib.models import RandomGraph\n",
    "nrealiz = 10\n",
    "randnets = zeros((nrealiz,N,N), uint8)\n",
    "for re in range(nrealiz):\n",
    "    randnets[re] = RandomGraph(N,L, directed=False)"
   ]
  },
  {
   "cell_type": "code",
   "execution_count": 22,
   "metadata": {
    "collapsed": true,
    "deletable": true,
    "editable": true
   },
   "outputs": [],
   "source": [
    "# Generate ensemble of random graphs with same N and L and k-sequence as the cat connectome\n",
    "from galib.models import RewireNetwork\n",
    "rewnets = zeros((nrealiz,N,N), uint8)\n",
    "for re in range(nrealiz):\n",
    "    rewnets[re] = RewireNetwork(netsym, prewire=10, directed=False, weighted=False)"
   ]
  },
  {
   "cell_type": "markdown",
   "metadata": {
    "deletable": true,
    "editable": true
   },
   "source": [
    "#### Compare the degree distributions"
   ]
  },
  {
   "cell_type": "code",
   "execution_count": 23,
   "metadata": {
    "collapsed": false,
    "deletable": true,
    "editable": true
   },
   "outputs": [
    {
     "name": "stdout",
     "output_type": "stream",
     "text": [
      "\n",
      "DEGREES\n",
      "Cat \t Min = 4, Max = 39,\t Mean degree: 19.736\n",
      "Random \t Min = 10, Max = 32,\t Mean degree: 19.736\n",
      "Rew \t Min = 4, Max = 39,\t Mean degree: 19.736\n"
     ]
    }
   ],
   "source": [
    "deglist_rand = []\n",
    "deglist_rew = []\n",
    "for re in range(nrealiz):\n",
    "    deglist_rand += Degree(randnets[re], directed=False).tolist()\n",
    "    deglist_rew += Degree(rewnets[re], directed=False).tolist()\n",
    "deglist_rand = array(deglist_rand, dtype=uint)\n",
    "deglist_rew = array(deglist_rew, dtype=uint)\n",
    "\n",
    "print('\\nDEGREES')\n",
    "print('Cat \\t Min = %d, Max = %d,\\t Mean degree: %1.3f' %(deg.min(), deg.max(), deg.mean()))\n",
    "print('Random \\t Min = %d, Max = %d,\\t Mean degree: %1.3f' %(deglist_rand.min(), deglist_rand.max(), deglist_rand.mean()) )\n",
    "print('Rew \\t Min = %d, Max = %d,\\t Mean degree: %1.3f' %(deglist_rew.min(), deglist_rew.max(), deglist_rew.mean()))"
   ]
  },
  {
   "cell_type": "code",
   "execution_count": 25,
   "metadata": {
    "collapsed": false,
    "deletable": true,
    "editable": true
   },
   "outputs": [
    {
     "data": {
      "text/plain": [
       "<matplotlib.text.Text at 0x121fa0518>"
      ]
     },
     "execution_count": 25,
     "metadata": {},
     "output_type": "execute_result"
    },
    {
     "data": {
      "image/png": "[encoded data removed]",
      "text/plain": [
       "<matplotlib.figure.Figure at 0x122448eb8>"
      ]
     },
     "metadata": {},
     "output_type": "display_data"
    },
    {
     "data": {
      "image/png": "[encoded data removed]",
      "text/plain": [
       "<matplotlib.figure.Figure at 0x122064630>"
      ]
     },
     "metadata": {},
     "output_type": "display_data"
    }
   ],
   "source": [
    "# Plot the degree distributions\n",
    "plt.figure()\n",
    "plt.hist(deglist_rand, bins=8, range=(0,40), rwidth=0.8) #, density=True)\n",
    "plt.xlabel('Node degree', fontsize=14)\n",
    "\n",
    "plt.figure()\n",
    "plt.hist(deglist_rew, bins=8, range=(0,40), rwidth=0.8) #, density=True)\n",
    "plt.xlabel('Node degree', fontsize=14)"
   ]
  },
  {
   "cell_type": "markdown",
   "metadata": {
    "deletable": true,
    "editable": true
   },
   "source": [
    "#### Compare the clustering coefficient"
   ]
  },
  {
   "cell_type": "code",
   "execution_count": 26,
   "metadata": {
    "collapsed": false,
    "deletable": true,
    "editable": true
   },
   "outputs": [
    {
     "name": "stdout",
     "output_type": "stream",
     "text": [
      "\n",
      "CLUSTERING COEFFICIENT\n",
      "Cat:\t0.585 \n",
      "Random:\t0.366 \n",
      "Rew:\t0.473\n"
     ]
    }
   ],
   "source": [
    "Clist_rand = zeros(nrealiz, float)\n",
    "Clist_rew = zeros(nrealiz, float)\n",
    "for re in range(nrealiz):\n",
    "    Crand, Cnodes_rand = Clustering(randnets[re])\n",
    "    Clist_rand[re] = Crand\n",
    "    Crew, Cnodes_rew = Clustering(rewnets[re])\n",
    "    Clist_rew[re] = Crew\n",
    "\n",
    "print('\\nCLUSTERING COEFFICIENT')\n",
    "print('Cat:\\t%1.3f \\nRandom:\\t%1.3f \\nRew:\\t%1.3f' %(C, Crand, Crew))"
   ]
  },
  {
   "cell_type": "markdown",
   "metadata": {
    "deletable": true,
    "editable": true
   },
   "source": [
    "#### Compare the pathlength and betweenness centrality"
   ]
  },
  {
   "cell_type": "code",
   "execution_count": 27,
   "metadata": {
    "collapsed": false,
    "deletable": true,
    "editable": true
   },
   "outputs": [],
   "source": [
    "# First, calculate pathlengths and BC from the RANDOM graphs\n",
    "avlenlist_rand = zeros(nrealiz, float)\n",
    "bclist_rand = []\n",
    "triuidx = triu_indices(N, k=1)\n",
    "for re in range(nrealiz):\n",
    "    Dij_rand, BC_rand, paths, cycles = PathsAllinOne(randnets[re])\n",
    "    values = Dij_rand[triuidx]\n",
    "    avlenlist_rand[re] = values.mean()\n",
    "    bclist_rand += BC_rand.tolist()\n",
    "\n",
    "# Calculate pathlengths and BC from the REWIRED graphs\n",
    "avlenlist_rew = zeros(nrealiz, float)\n",
    "bclist_rew = []\n",
    "for re in range(nrealiz):\n",
    "    Dij_rew, BC_rew, paths, cycles = PathsAllinOne(rewnets[re])\n",
    "    values = Dij_rew[triuidx]\n",
    "    avlenlist_rew[re] = values.mean()\n",
    "    bclist_rew += BC_rew.tolist()\n"
   ]
  },
  {
   "cell_type": "code",
   "execution_count": 28,
   "metadata": {
    "collapsed": false,
    "deletable": true,
    "editable": true
   },
   "outputs": [
    {
     "data": {
      "image/png": "[encoded data removed]",
      "text/plain": [
       "<matplotlib.figure.Figure at 0x12233af60>"
      ]
     },
     "metadata": {},
     "output_type": "display_data"
    }
   ],
   "source": [
    "# Results for the average pathlength \n",
    "plt.figure()\n",
    "plt.title('Comparison of average pathlengths', fontsize=14)\n",
    "plt.bar( (1,2,3), (avpathlen, avlenlist_rand.mean(), avlenlist_rew.mean()) )\n",
    "plt.ylim(1,2)\n",
    "plt.xticks((1,2,3), ('Cat', 'Random', 'Rewired') )\n",
    "plt.grid(axis='y', lw=0.5)\n"
   ]
  },
  {
   "cell_type": "code",
   "execution_count": 29,
   "metadata": {
    "collapsed": false,
    "deletable": true,
    "editable": true
   },
   "outputs": [
    {
     "data": {
      "image/png": "[encoded data removed]",
      "text/plain": [
       "<matplotlib.figure.Figure at 0x122a653c8>"
      ]
     },
     "metadata": {},
     "output_type": "display_data"
    }
   ],
   "source": [
    "# Results for the betweenness centrality\n",
    "plt.figure()\n",
    "plt.scatter(deg, bcnodes)\n",
    "plt.plot(deglist_rand, bclist_rand, '.', color='red', zorder=10)\n",
    "plt.plot(deglist_rew, bclist_rew, '.', color='orange', zorder=5)\n",
    "#plt.scatter(deg*deg, bcnodes)\n",
    "#plt.plot(deglist_rand**2, bclist_rand, '.', color='red', zorder=10)\n",
    "#plt.plot(deglist_rew**2, bclist_rew, '.', color='orange', zorder=5)\n",
    "\n",
    "plt.xlabel('Node degree', fontsize=14)\n",
    "plt.ylabel('Betweenness centrality', fontsize=14)\n",
    "#plt.xlim(0,45)\n",
    "plt.grid(lw=0.5)\n",
    "\n",
    "# Try again with k**2. (comment'xlim' out). What happens?"
   ]
  },
  {
   "cell_type": "markdown",
   "metadata": {
    "deletable": true,
    "editable": true
   },
   "source": [
    "<br/>\n",
    "<br/>\n",
    "## Functional Connectivity –––––––––––––––––––––––––––––––––––––––––––––––\n",
    "\n",
    "Usually, functional connectivity is estimated from dynamic / statistic measures from the pairwise  temporal activities of two brain regions. Here, we don't have fMRI or EEG data from the brain of cats so, for illustration purposes, we will compute an analytical estimate (a prediction) of its FC (cross-correlation matrix). This estimate, *Topological similarity*, represents a diffusion process in the network. The details of the estimate are found in:\n",
    "\n",
    "- Bettinardi, Deco et al. (2017) \"*[How structure sculpts function: Unveiling the contribution of anatomical connectivity to the brain's spontaneous correlation structure](http://aip.scitation.org/doi/10.1063/1.4980099)*\" Chaos, 27, 047409.\n",
    "\n",
    "The estimate accepts a tunable parameter, a uniform coupling strength $g$ applied to all links."
   ]
  },
  {
   "cell_type": "code",
   "execution_count": 30,
   "metadata": {
    "collapsed": true,
    "deletable": true,
    "editable": true
   },
   "outputs": [],
   "source": [
    "# Import the function to estimate Topological Similarity\n",
    "from galib.extra import TopologicalSimilarity"
   ]
  },
  {
   "cell_type": "code",
   "execution_count": 31,
   "metadata": {
    "collapsed": false,
    "deletable": true,
    "editable": true
   },
   "outputs": [
    {
     "data": {
      "text/plain": [
       "<matplotlib.colorbar.Colorbar at 0x123d35f60>"
      ]
     },
     "execution_count": 31,
     "metadata": {},
     "output_type": "execute_result"
    },
    {
     "data": {
      "image/png": "[encoded data removed]",
      "text/plain": [
       "<matplotlib.figure.Figure at 0x122951ba8>"
      ]
     },
     "metadata": {},
     "output_type": "display_data"
    }
   ],
   "source": [
    "# Coupling strength\n",
    "g = 0.09 #0.0766\n",
    "fcnet = TopologicalSimilarity(netsym, g)\n",
    "\n",
    "plt.figure()\n",
    "plt.imshow(fcnet, cmap='jet')\n",
    "plt.clim(0,1)\n",
    "plt.colorbar()"
   ]
  },
  {
   "cell_type": "code",
   "execution_count": 32,
   "metadata": {
    "collapsed": false,
    "deletable": true,
    "editable": true
   },
   "outputs": [
    {
     "data": {
      "image/png": "[encoded data removed]",
      "text/plain": [
       "<matplotlib.figure.Figure at 0x123d46048>"
      ]
     },
     "metadata": {},
     "output_type": "display_data"
    }
   ],
   "source": [
    "# Calculate the intensity of the nodes (weighted equivalent of degree)\n",
    "from galib import Intensity\n",
    "intens = Intensity(fcnet, directed=False)\n",
    "\n",
    "# Compare SC degree and FC intensity\n",
    "plt.figure()\n",
    "plt.scatter(deg, intens)\n",
    "plt.xlabel('Node degree (SC)', fontsize=14)\n",
    "plt.ylabel('Node intensity (FC)', fontsize=14)\n",
    "plt.grid(lw=0.5)"
   ]
  },
  {
   "cell_type": "code",
   "execution_count": 33,
   "metadata": {
    "collapsed": false,
    "deletable": true,
    "editable": true
   },
   "outputs": [
    {
     "data": {
      "text/plain": [
       "<matplotlib.text.Text at 0x123e86668>"
      ]
     },
     "execution_count": 33,
     "metadata": {},
     "output_type": "execute_result"
    },
    {
     "data": {
      "image/png": "[encoded data removed]",
      "text/plain": [
       "<matplotlib.figure.Figure at 0x1236a28d0>"
      ]
     },
     "metadata": {},
     "output_type": "display_data"
    }
   ],
   "source": [
    "# Compare the graph distance and the pair-wise correlations\n",
    "distvalues = Dij[triuidx]\n",
    "fcvalues = fcnet[triuidx]\n",
    "plt.figure()\n",
    "plt.plot(distvalues, fcvalues, '.')\n",
    "plt.xlabel('Graph distance (SC)', fontsize=14)\n",
    "plt.ylabel('Correlation (FC)', fontsize=14)"
   ]
  },
  {
   "cell_type": "code",
   "execution_count": null,
   "metadata": {
    "collapsed": true,
    "deletable": true,
    "editable": true
   },
   "outputs": [],
   "source": [
    "\n"
   ]
  }
 ],
 "metadata": {
  "kernelspec": {
   "display_name": "Python 3",
   "language": "python",
   "name": "python3"
  },
  "language_info": {
   "codemirror_mode": {
    "name": "ipython",
    "version": 3
   },
   "file_extension": ".py",
   "mimetype": "text/x-python",
   "name": "python",
   "nbconvert_exporter": "python",
   "pygments_lexer": "ipython3",
   "version": "3.5.2"
  }
 },
 "nbformat": 4,
 "nbformat_minor": 2
}
